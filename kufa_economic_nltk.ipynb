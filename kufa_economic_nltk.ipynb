{
  "nbformat": 4,
  "nbformat_minor": 0,
  "metadata": {
    "colab": {
      "provenance": [],
      "authorship_tag": "ABX9TyOW9cq7nawtW4vf+zJEG+pi",
      "include_colab_link": true
    },
    "kernelspec": {
      "name": "python3",
      "display_name": "Python 3"
    },
    "language_info": {
      "name": "python"
    }
  },
  "cells": [
    {
      "cell_type": "markdown",
      "metadata": {
        "id": "view-in-github",
        "colab_type": "text"
      },
      "source": [
        "<a href=\"https://colab.research.google.com/github/rich-hyun/kufamate_economic/blob/main/kufa_economic_nltk.ipynb\" target=\"_parent\"><img src=\"https://colab.research.google.com/assets/colab-badge.svg\" alt=\"Open In Colab\"/></a>"
      ]
    },
    {
      "cell_type": "markdown",
      "source": [
        "#여러 년도 파일 요약"
      ],
      "metadata": {
        "id": "3IAhZSTy_260"
      }
    },
    {
      "cell_type": "code",
      "source": [
        "!pip install konlpy"
      ],
      "metadata": {
        "colab": {
          "base_uri": "https://localhost:8080/"
        },
        "id": "DGf3-_rzwXqb",
        "outputId": "35b0e731-2127-4e87-b8e7-83ca62ba25f5"
      },
      "execution_count": 2,
      "outputs": [
        {
          "output_type": "stream",
          "name": "stdout",
          "text": [
            "Collecting konlpy\n",
            "  Downloading konlpy-0.6.0-py2.py3-none-any.whl (19.4 MB)\n",
            "\u001b[2K     \u001b[90m━━━━━━━━━━━━━━━━━━━━━━━━━━━━━━━━━━━━━━━━\u001b[0m \u001b[32m19.4/19.4 MB\u001b[0m \u001b[31m30.5 MB/s\u001b[0m eta \u001b[36m0:00:00\u001b[0m\n",
            "\u001b[?25hCollecting JPype1>=0.7.0 (from konlpy)\n",
            "  Downloading JPype1-1.4.1-cp310-cp310-manylinux_2_12_x86_64.manylinux2010_x86_64.whl (465 kB)\n",
            "\u001b[2K     \u001b[90m━━━━━━━━━━━━━━━━━━━━━━━━━━━━━━━━━━━━━━━━\u001b[0m \u001b[32m465.3/465.3 kB\u001b[0m \u001b[31m37.1 MB/s\u001b[0m eta \u001b[36m0:00:00\u001b[0m\n",
            "\u001b[?25hRequirement already satisfied: lxml>=4.1.0 in /usr/local/lib/python3.10/dist-packages (from konlpy) (4.9.3)\n",
            "Requirement already satisfied: numpy>=1.6 in /usr/local/lib/python3.10/dist-packages (from konlpy) (1.23.5)\n",
            "Requirement already satisfied: packaging in /usr/local/lib/python3.10/dist-packages (from JPype1>=0.7.0->konlpy) (23.2)\n",
            "Installing collected packages: JPype1, konlpy\n",
            "Successfully installed JPype1-1.4.1 konlpy-0.6.0\n"
          ]
        }
      ]
    },
    {
      "cell_type": "code",
      "source": [
        "import pandas as pd\n",
        "from sklearn.feature_extraction.text import TfidfVectorizer\n",
        "import numpy as np\n",
        "import re\n",
        "from konlpy.tag import Okt"
      ],
      "metadata": {
        "id": "IoQTJFtMFAvW"
      },
      "execution_count": 3,
      "outputs": []
    },
    {
      "cell_type": "code",
      "source": [
        "# konlpy의 Okt 객체 생성\n",
        "okt = Okt()\n",
        "\n",
        "# 텍스트 클리닝 함수\n",
        "def clean_text(text):\n",
        "    # 이상한 기호 제거\n",
        "    text = re.sub(r'[^가-힣a-zA-Z0-9. ]', '', text)\n",
        "    # 과도한 공백 제거\n",
        "    text = re.sub(' +', ' ', text)\n",
        "    return text\n",
        "\n",
        "# 텍스트를 문장 단위로 분리하는 함수\n",
        "def split_into_sentences(text):\n",
        "    sentences = text.split('. ')\n",
        "    return sentences\n",
        "\n",
        "# 문장을 토큰화하는 함수\n",
        "def tokenize_sentences(sentences):\n",
        "    tokenized_sentences = []\n",
        "    for sentence in sentences:\n",
        "        # 토큰화 및 품사 태깅\n",
        "        tokens = okt.pos(sentence, norm=True, stem=True)\n",
        "        # 명사, 동사, 형용사만 추출\n",
        "        words = [word for word, pos in tokens if pos in ['Noun', 'Verb', 'Adjective']]\n",
        "        tokenized_sentences.append(' '.join(words))\n",
        "    return tokenized_sentences\n",
        "\n",
        "# 문장별로 중요도를 평가하는 함수\n",
        "def rank_sentences(sentences, tokenized_sentences):\n",
        "    # TF-IDF 벡터화를 수행합니다.\n",
        "    vectorizer = TfidfVectorizer()\n",
        "    tfidf_matrix = vectorizer.fit_transform(tokenized_sentences)\n",
        "\n",
        "    # 각 문장의 TF-IDF 벡터의 합을 구합니다.\n",
        "    sentence_scores = np.sum(tfidf_matrix.toarray(), axis=1)\n",
        "\n",
        "    # 점수로 정렬된 문장의 인덱스를 반환합니다.\n",
        "    ranked_sentences = [sentences[i] for i in np.argsort(sentence_scores, axis=0)[::-1]]\n",
        "    return ranked_sentences\n",
        "\n",
        "# 파일 URL 목록\n",
        "file_urls = [\n",
        "    'https://raw.githubusercontent.com/rich-hyun/data_sets/main/21.03.xlsx',\n",
        "    'https://raw.githubusercontent.com/rich-hyun/data_sets/main/21.06.xlsx',\n",
        "    'https://raw.githubusercontent.com/rich-hyun/data_sets/main/21.09.xlsx',\n",
        "    'https://raw.githubusercontent.com/rich-hyun/data_sets/main/21.12.xlsx',\n",
        "    'https://raw.githubusercontent.com/rich-hyun/data_sets/main/22.03.xlsx',\n",
        "    'https://raw.githubusercontent.com/rich-hyun/data_sets/main/22.06.xlsx',\n",
        "    'https://raw.githubusercontent.com/rich-hyun/data_sets/main/22.09.xlsx',\n",
        "    'https://raw.githubusercontent.com/rich-hyun/data_sets/main/22.12.xlsx',\n",
        "    'https://raw.githubusercontent.com/rich-hyun/data_sets/main/23.03.xlsx',\n",
        "    'https://raw.githubusercontent.com/rich-hyun/data_sets/main/23.06.xlsx',\n",
        "    'https://raw.githubusercontent.com/rich-hyun/data_sets/main/23.09.xlsx'\n",
        "]\n",
        "\n",
        "\n",
        "# 각 파일 URL에 대해 반복 처리를 수행합니다.\n",
        "for idx, file_url in enumerate(file_urls):\n",
        "    # 해당 URL에서 Excel 파일을 DataFrame으로 불러옵니다.\n",
        "    df = pd.read_excel(file_url)\n",
        "\n",
        "    # DataFrame에서 전체 텍스트를 문자열로 추출합니다.\n",
        "    full_text = ' '.join(df.astype(str).values.flatten())\n",
        "\n",
        "    # 텍스트 클리닝을 수행합니다.\n",
        "    full_text = clean_text(full_text)\n",
        "\n",
        "    # 전체 텍스트에서 문장을 분리합니다.\n",
        "    sentences = split_into_sentences(full_text)\n",
        "\n",
        "    # 문장을 토큰화합니다.\n",
        "    tokenized_sentences = tokenize_sentences(sentences)\n",
        "\n",
        "    # 문장별로 중요도를 평가하여 순위를 매깁니다.\n",
        "    ranked_sentences = rank_sentences(sentences, tokenized_sentences)\n",
        "\n",
        "    print(f\"요약본 {idx+1} - {file_url}:\")\n",
        "    top_sentences = '\\n'.join(ranked_sentences[:2])\n",
        "    print(top_sentences)\n",
        "    print()"
      ],
      "metadata": {
        "colab": {
          "base_uri": "https://localhost:8080/"
        },
        "id": "uy-hLEyRDQLg",
        "outputId": "44c3fa39-8467-4397-d3c5-c0c9e72c9090"
      },
      "execution_count": 4,
      "outputs": [
        {
          "output_type": "stream",
          "name": "stdout",
          "text": [
            "요약본 1 - https://raw.githubusercontent.com/rich-hyun/data_sets/main/21.03.xlsx:\n",
            "성장 및 물가 전망75국내경제 완만하게 회복될 전망GDP 성장률은 올해 3.0를 기록한 후 내년에 는 2.5 수준을 나타낼 것으로 전망된다.76 민 간소비 회복이 더디겠으나 글로벌 경기개선 등 에 힘입어 수출과 투자를 중심으로 완만하게 회 복될 것으로 예상된다.부문별로 보면 민간소비는 코로나19 장기화에 따른 가계 소득 여건 부진 감염우려 지속 등으 로 당초 예상보다 회복 속도가 더딜 전망이다\n",
            "nan nan 75 2021년 2월 25일 발표한 한국은행 경제전망보고서를 토대로 작성하였다.76 금번 경제전망에서는 코로나19 확산 국가별로 상하게 전개되는 가운데 올해 중후반 후 점차 진정되고 동제한조치는 올해 봄부터 완화되면서 세계경제가 올해 하반기 중 코로나 위기 전 수준을 회복하고 국내에서는 코로나19의 확산세가대체로 완만한 속도로 둔화되다가 올해 중후반 후 점차 진정될 것으로 전제하였다\n",
            "\n",
            "요약본 2 - https://raw.githubusercontent.com/rich-hyun/data_sets/main/21.06.xlsx:\n",
            "nan nan 73 2021년 5월 27일 발표한 한국은행 경제전망보고서를 토대로 작성하였다.74 2021년 및 2022년 GDP성장률 전망치4.0 및 3.0는 지난 2월 전망3.0 및 2.5에 비해 각각 1.0p 및 0.5p 높은 수준이다.75 금번 경제전망에서는 코로나19 및 백신보급이 국가별로 상이하게 전개되는 가운데 선진국은 대체로 금년 하반기 중 광범위한 백신접종에 도달하면서 감염병 확산세가 진정되고 신흥국은 내년 이후 광범위한 백신접종이 이루어지면서 감염병 확산세가 점진적으로 둔화될 것으로 전제하였다\n",
            "이는 국적선사 선복량 증대 운임 상승 등으 로 운송서비스 흑자폭이 확대되면서 서비스수 지의 적자폭이 축소되겠으나 글로벌 IT경기 호 조 등에 따른 상품수출 증가에도 불구하고 유가 상승 및 내수회복으로 상품수입이 크게 늘어 상 품수지 흑자폭이 축소될 것으로 예상되는 데 기 인한다.향후 성장경로에는 다양한 상하방 요인이 잠 재하고 있는 것으로 평가된다\n",
            "\n",
            "요약본 3 - https://raw.githubusercontent.com/rich-hyun/data_sets/main/21.09.xlsx:\n",
            "상방 리스크로는 주요국 경제활동 재개 가 속화 국내 감염병 상황의 빠른 개선 국내외 추 가 경기부양책 등이 하방 리스크로는 국내외 감염병 확산세 심화 중국 경제의 성장세 둔화 nan nan 92 2021년 8월 26일 발표한 한국은행 경제전망보고서를 토대로 작성하였다.93 2021년 및 2022년 GDP성장률 전망치4.0 및 3.0는 지난 5월 전망과 같은 수준이다.94 금번 경제전망에서는 코로나19 전개양상 시나리오와 관련하여 백신 접종 속도에 따라 국가별로 감염병 전개상황이 상이한 가운데 선진국은 대체로 금년 하반기 중 광범위한 백신 접종에 도달하면서 경제활동 제한이 상당 부분 완화되고 신흥국은 내년 이후 광범위한 백신 접종이 이루어지면서 감염병 확산세가 더디게 둔화될 것으로 전제하였다\n",
            "성장 및 물가 전망92국내경제는 양호한 회복세를 지속할 전망GDP성장률은 올해 4.0를 기록한 후 내년에 3.0 수준을 나타낼 것으로 전망된다.9394 최 근 코로나19 재확산이 단기적으로 성장에 부정 적 영향을 미치겠지만 향후 백신 접종 확대 수 출의 견조한 흐름 등에 힘입어 양호한 회복세를 이어갈 것으로 예상된다.부문별로 보면 민간소비는 백신 접종 확대 정 부 지원정책 등을 바탕으로 회복 흐름을 이어갈 것으로 전망된다\n",
            "\n",
            "요약본 4 - https://raw.githubusercontent.com/rich-hyun/data_sets/main/21.12.xlsx:\n",
            "상방 리스크로는 전세계적인 방역조치 완화 nan nan 93 2021년 11월 25일 발표한 한국은행 경제전망보고서를 토대로 작성하였다.94 2021년 및 2022년 GDP성장률 전망치4.0 및 3.0는 지난 8월 전망과 같은 수준다.95 금번 경제전망에서는 코로나19 전개양상 시나리오와 관련하여 전세계적으로 백신접종 확대되면서 경제활동 제한 점차 완화되겠으며 그 속도는 국가별로 상한 가운데 선진국은 금년 하반기에 어 내년에도 경제활동 제한의 완화 기조가 지속되고 신흥국은 내년 후 광범위한 백신접종 루어 지면서 경제활동 제한 점차 완화될 것으로 전제하였다\n",
            "성장 및 물가 전망93국내경제는 견실한 성장 흐름을 지속할 전망GDP 성장률은 올해 4.0를 기록한 후 내년에 는 3.0 수준을 나타낼 것으로 전망된다.9495 대내외 경제활동 재개에 힘입어 수출의 증가 흐 름이 지속되고 소비 회복세가 확대되면서 견실 한 성장 흐름을 이어갈 것으로 예상된다.부문별로 보면 민간소비는 단계적 일상회복으 로의 방역정책 전환에 힘입어 회복세가 확대될 전망이다\n",
            "\n",
            "요약본 5 - https://raw.githubusercontent.com/rich-hyun/data_sets/main/22.03.xlsx:\n",
            "서비스수지의 경 글로벌 재화수요 지속으로 운송수입은 호 조를 이어가겠으나 내국인 해외여행이 일부 재 개되면서 적자폭이 확대될 전망이다.향후 성장경로 상에는 방역조치 조기 완화 정 nan nan 83 2022년 2월 24일 발표한 한국은행 경제전망보고서를 토대로 작성하였다.84 2022년 및 2023년 GDP성장률 전망치3.0 및 2.5는 지난해 11월 전망과 같은 수준이다.85 금번 경제전망에서는 코로나19 전개양상 시나리오와 관련하여 전세계적으로는 감염병 확산세가 당분간 이어지는 가운데 백신접종 확대 등으로 경제활동 제한이 점차 완화될 것으로 전제하였다\n",
            "추경을 통한 정부의 소상공인 지원정 책과 누적된 가계저축도 민간소비의 빠른 회복 을 뒷받침할 것으로 보인다.설비투자는 견조한 IT 수요 자동차 생산차질 완화 등으로 양호한 흐름을 나타낼 전망이다\n",
            "\n",
            "요약본 6 - https://raw.githubusercontent.com/rich-hyun/data_sets/main/22.06.xlsx:\n",
            "앞으로 물가 및 금리 상승에 따른 가계 부담이 점차 늘어나겠으나 추 경 등 정부 지원정책과 코로나19 위기 이후 축 적된 가계의 구매력이 소비 회복을 뒷받침할 것 으로 보인다.설비투자는 최근 글로벌 공급차질의 영향으로 조정을 지속하였으나 향후 반도체 산업을 중심 으로 완만한 회복흐름을 나타낼 전망이다\n",
            "nan nan 85 보다 자세한 내용은 한국은행 경제전망보고서2022년 5월를 참고하기 바란다.86 2022년 및 2023년 GDP 성장률 전망치2.7 및 2.4는 지난 2월 전망3.0 및 2.5에 비해 각각 0.3p 및 0.1p 낮은 수준이다.87 금번 경제전망에서는 우크라이나 사태와 관련하여 금년 하반기까지 군사적 긴장과 경제제재가 지속되다가 연말 이후 점차 완화될 것으로 전제하였다\n",
            "\n",
            "요약본 7 - https://raw.githubusercontent.com/rich-hyun/data_sets/main/22.09.xlsx:\n",
            "다만 서비스업의 경우에는 정보통신 항공운수를 중심으로 투자 가 늘어날 전망이다.지식재산생산물투자의 경우 RD투자가 신성 장부문 확대 정부의 정책지원 등으로 증가할 것으로 예상되며 기타지식재산생산물투자85도 디지털 전환이 가속화되면서 관련 소프트웨어65투자를 중심으로 확대될 전망이다.건설투자는 건설자재가격 상승세 둔화 분양물 량 증가 등으로 완만한 회복세를 이어갈 것으로 예상된다\n",
            "성장 및 물가 전망82국내경제는 성장흐름이 약화될 전망국내경제는 우크라이나 사태 장기화 주요국 금 리인상 등에 따른 글로벌 경기둔화의 영향으 로 수출 둔화폭이 확대되면서 성장흐름이 약화 될 것으로 예상된다.83 이에 따라 GDP 성장률 은 올해 2.6 내년 2.1 수준을 나타낼 전망이 다.84부문별로 보면 민간소비는 소득여건 개선과 방 역조치 해제 후 일상회복 지속 등으로 완만한 회복세를 이어갈 전망이다\n",
            "\n",
            "요약본 8 - https://raw.githubusercontent.com/rich-hyun/data_sets/main/22.12.xlsx:\n",
            "주거용 건물건설이 그간의 수주 호조에도 불구하고 신 규 분양 위축 등으로 소폭 증가에 그치겠으며 비주거용 건물건설도 경기둔화의 영향으로 부 nan nan nan nan nan nan nan nan nan nan nan nan 2021 nan 2022 nan nan 2023e nan 2024e nan nan nan 연간 상반 하반e 연간e 상반 하반 연간 연간 nan nan GDP 4.1 3 2.3 2.6 1.3 2.1 1.7 2.3 nan nan 민간소비 3.7 4.1 5.3 4.7 4.3 1.3 2.7 2.2 nan nan 설비투자 9 6.4 2.7 2 0.7 6.7 3.1 3.6 nan nan 지식재산 생산물투자 4.4 4.6 4.8 4.7 3.5 3.6 3.6 3.6 nan nan 건설투자 1.6 4.5 0.4 2.4 2.4 2.4 0.2 0.7 nan nan 상품수출 10.5 6 0.9 3.4 3.7 4.9 0.7 3.3 nan nan 상품수입 12.8 5.3 6.4 5.8 2 1.2 0.4 2.9 nan nan 85 보다 자세한 내용은 한국은행 보도자료 경제전망보고서2022년 11월를 참고하기 바란다.86 2022년 GDP성장률 전망치2.6는 지난 8월 전망과 동일하나 2023년 전망치1.7는 지난 8월 전망2.1에 비해 0.4p 낮은 수준다.87 금번 경제전망에서는 미 연준의 금리인상 속도가 점차 줄어들겠으나 긴축기조는 상당기간 어지는 것으로 전제하였다\n",
            "국내 금융시장의 경우 최근 신용 경계감 증대되면서 자금조달여건 악화되었으나 금융시스템 전반의 불안으로 어지지는 않는다고 가정하였다.88 기타지식재산생산물 투자는 RD투자를 제외한 컴퓨터 소프트웨어 및 데터베스 오락문학작품 예술품 원본 광물탐사등에 대한 투자를 의미한다\n",
            "\n",
            "요약본 9 - https://raw.githubusercontent.com/rich-hyun/data_sets/main/23.03.xlsx:\n",
            "우크라이나 사태와 관련하여서 는 대러 제재 등 공급제약 요인이 이어지는 가운데 중국의 수요 확대로 에너지 수급불안 우려가 지속되는 것으로 가정하였다.74 2023년 GDP성장률 전망치1.6는 지난 11월 전망1.7에 비해 0.1p 하향 조정되었으며 2024년 전망치2.4는 지난 11월 전 망2.3에 비해 0.1p 높은 수준이다.75 기타지식재산생산물 투자는 RD투자를 제외한 컴퓨터 소프트웨어 및 데이터베이스 오락문학작품 예술품 원본 광물탐사 등에 대한 투자를 의미한다\n",
            "주거용 및 비주거용 물 nan nan 2022상반 하반 연간 nan nan nan 2023e상반 하반 연간 nan nan 2024e연간 nan nan nan nan GDP 3.0 2.2 2.6 1.1 2.0 1.6 2.4 nan nan nan nan 민간소비 4.1 4.6 4.4 3.3 1.3 2.3 2.4 nan nan nan nan 설비투자 6.4 5.4 0.7 3.2 8.9 3.1 3.6 nan nan nan nan 지식재산생산물투자 4.6 5.0 4.8 3.6 3.5 3.5 3.5 nan nan nan nan 건설투자 4.5 2.6 3.5 0.1 1.5 0.7 0.4 가 nan nan nan 상품수출 6.0 0.3 3.1 4 5.0 0.5 3.4 건물의 경우 각각 신규 분양 위축 경기 둔화 nan nan 전 망 상품수입 5.3 3.9 4.6 0.4 0.1 0.2 3.1 nan nan nan nan 주 1 2023년 2월 전망 기준 자료 한국은행부문별로 보면 민간소비는 실질구매력 둔화 원 리금상환 부담 증대 주택경기 위축 등으로 회 복세가 완만할 것으로 전망된다\n",
            "\n",
            "요약본 10 - https://raw.githubusercontent.com/rich-hyun/data_sets/main/23.06.xlsx:\n",
            "다만 내년에 는 대내외 불확실성 완화 IT경기 회복 등으로 기업들의 투자심리가 점차 살아나면서 증가 전 환할 전망이다.지식재산생산물투자의 경우 글로벌 경기 부진에따른 기업실적 악화 실리콘밸리 은행 사태 등 61에 따른 투자심리 위축 등이 제약요인으로 작용 하겠으나 정부의 벤처 지원 정책과 RD 예산 향 확충 인공지능 관련 소프트웨어 수요 확대 등 통신에 힘입어 양호한 증가 흐름을 이어갈 것으로 용책예상된다\n",
            "경상수지는 반도체와 대중 수출 부진이 지속되 고 있어 당분간 뚜렷한 개선이 어려울 것으로 nan nan nan nan nan nan nan nan nan nan 2022연간 nan 2023e상반 하반 연간 nan nan 2024e상반 하반 연간 nan nan nan nan GDP 2.6 0.8 1.8 nan 1.4 2.4 2.3 2.3 nan nan 민간소비 4.3 3.3 1.4 nan 2.3 2.2 2.6 2.4 nan nan 설비투자 0.5 5.3 11.1 nan 3.2 1.8 9.8 3.7 nan nan 지식재산 nan nan nan nan nan nan nan nan nan 생산물투자 4.7 nan 3.1 3.4 3.3 4.9 2.6 3.7 nan nan nan nan nan nan nan nan nan nan nan nan 건설투자 3.5 nan 0.7 1.4 0.4 1.7 1.9 0.2 nan nan 재화수출 3.4 nan 2.3 3.0 0.4 4.1 2.7 3.3 nan nan 재화수입 4.7 nan 2.2 2.5 0.2 1.3 5.0 3.1 nan nan 80 보다 자세한 내용은 한국은행 경제전망보고서2023년 5월를 참고81 2023년 GDP성장률 전망치1.4는 지난 2월 전망1.6에 비해 0.2p 2024년 전망치2.3는 지난 2월 전망2.4에 비해0.1p 하향 조정되었다\n",
            "\n",
            "요약본 11 - https://raw.githubusercontent.com/rich-hyun/data_sets/main/23.09.xlsx:\n",
            "경제성장률 전망1전년동기대비 지식재산 생산물투자건설투자 재화수출재화수입 4.3 1.8 3.4 0.8 0.4 5.4 2.9주 1 2023년 8월 전망 기준 자료 한국은행부문별로 보면 민간소비는 양호한 고용 여건 축적된 초과저축 등 소비여력이 뒷받침되고 있 어 회복 흐름을 이어가겠으나 가계의 원리금 상환부담 증대 대외 여건의 불확실성 등으로 회복 속도가 예상보다 완만할 것으로 전망된다\n",
            "다만 내년에는 반도체 기업의 첨단공정 투자 및 주요 비IT 기업들의 친환경 수요 대응 투자 확대 공급망 다변화를 위한 외국인 직접투자 증가 등에 힘입어 회복세 를 보일 것으로 예상된다.지식재산생산물투자의 경우 신성장 부문에 대한 연구개발 투자 확대가 이어지고 있는 데다 하반기 이후에는 글로벌 IT경기도 점차 개선되면서 49기업의 투자 여력이 증대되고 인공지능 관련 소 프트웨어 수요도 확대되면서 증가세를 지속할 향 전망이다\n",
            "\n"
          ]
        }
      ]
    }
  ]
}